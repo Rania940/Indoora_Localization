{
 "cells": [
  {
   "cell_type": "code",
   "execution_count": 1,
   "metadata": {},
   "outputs": [],
   "source": [
    "import pandas as pd\n",
    "import numpy as np"
   ]
  },
  {
   "cell_type": "code",
   "execution_count": 2,
   "metadata": {},
   "outputs": [],
   "source": [
    "df_lab = pd.read_csv('0.csv', names=[\"STUDBME2\",\"STUDBME1\", \"Rannnia\", \"Ayazz\",\"CMP_LAB1\",\"CMP_LAB2\",\"CMP_LAB3\", 'loc'], header=None)\n",
    "df_lab.dropna(axis=0, inplace=True)\n",
    "df_lab.reset_index(drop=True, inplace=True)\n",
    "\n",
    "df_doc = pd.read_csv('1.csv', names=[\"STUDBME2\",\"STUDBME1\",\"Rannnia\", \"Ayazz\",\"CMP_LAB1\",\"CMP_LAB2\",\"CMP_LAB3\", 'loc'], header=None)\n",
    "df_doc.reset_index(drop=True, inplace=True)\n",
    "\n",
    "\n",
    "df_hallf = pd.read_csv('2.csv', names=[\"STUDBME2\",\"STUDBME1\", \"Rannnia\", \"Ayazz\",\"CMP_LAB1\",\"CMP_LAB2\",\"CMP_LAB3\", 'loc'], header=None)\n",
    "df_hallf.dropna(axis=0, inplace=True)\n",
    "df_hallf.reset_index(drop=True, inplace=True)\n",
    "\n",
    "df_cl2 = pd.read_csv('3.csv', names=[\"STUDBME2\",\"STUDBME1\", \"Rannnia\", \"Ayazz\",\"CMP_LAB1\",\"CMP_LAB2\",\"CMP_LAB3\", 'loc'], header=None)\n",
    "df_cl2.dropna(axis=0, inplace=True)\n",
    "df_cl2.reset_index(drop=True, inplace=True)\n",
    "\n",
    "df_co1 = pd.read_csv('4.csv', names=[\"STUDBME2\",\"STUDBME1\", \"Rannnia\", \"Ayazz\",\"CMP_LAB1\",\"CMP_LAB2\",\"CMP_LAB3\", 'loc'], header=None)\n",
    "df_co1.dropna(axis=0, inplace=True)\n",
    "df_co1.reset_index(drop=True, inplace=True)\n",
    "\n",
    "\n",
    "df_lab2 = pd.read_csv('5.csv', names=[\"STUDBME2\",\"STUDBME1\", \"Rannnia\", \"Ayazz\",\"CMP_LAB1\",\"CMP_LAB2\",\"CMP_LAB3\", 'loc'], header=None)\n",
    "df_lab2.reset_index(drop=True, inplace=True)"
   ]
  },
  {
   "cell_type": "code",
   "execution_count": 5,
   "metadata": {},
   "outputs": [
    {
     "data": {
      "text/html": [
       "<div>\n",
       "<style scoped>\n",
       "    .dataframe tbody tr th:only-of-type {\n",
       "        vertical-align: middle;\n",
       "    }\n",
       "\n",
       "    .dataframe tbody tr th {\n",
       "        vertical-align: top;\n",
       "    }\n",
       "\n",
       "    .dataframe thead th {\n",
       "        text-align: right;\n",
       "    }\n",
       "</style>\n",
       "<table border=\"1\" class=\"dataframe\">\n",
       "  <thead>\n",
       "    <tr style=\"text-align: right;\">\n",
       "      <th></th>\n",
       "      <th>STUDBME2</th>\n",
       "      <th>STUDBME1</th>\n",
       "      <th>Rannnia</th>\n",
       "      <th>Ayazz</th>\n",
       "      <th>CMP_LAB1</th>\n",
       "      <th>CMP_LAB2</th>\n",
       "      <th>CMP_LAB3</th>\n",
       "      <th>loc</th>\n",
       "    </tr>\n",
       "  </thead>\n",
       "  <tbody>\n",
       "    <tr>\n",
       "      <th>0</th>\n",
       "      <td>-76</td>\n",
       "      <td>-67</td>\n",
       "      <td>-87</td>\n",
       "      <td>-71</td>\n",
       "      <td>-91</td>\n",
       "      <td>-87</td>\n",
       "      <td>-85</td>\n",
       "      <td>1</td>\n",
       "    </tr>\n",
       "    <tr>\n",
       "      <th>1</th>\n",
       "      <td>-86</td>\n",
       "      <td>-68</td>\n",
       "      <td>-87</td>\n",
       "      <td>-71</td>\n",
       "      <td>-91</td>\n",
       "      <td>-87</td>\n",
       "      <td>-85</td>\n",
       "      <td>1</td>\n",
       "    </tr>\n",
       "    <tr>\n",
       "      <th>2</th>\n",
       "      <td>-74</td>\n",
       "      <td>-68</td>\n",
       "      <td>-78</td>\n",
       "      <td>-72</td>\n",
       "      <td>-91</td>\n",
       "      <td>-87</td>\n",
       "      <td>-85</td>\n",
       "      <td>1</td>\n",
       "    </tr>\n",
       "    <tr>\n",
       "      <th>3</th>\n",
       "      <td>-74</td>\n",
       "      <td>-60</td>\n",
       "      <td>-78</td>\n",
       "      <td>-72</td>\n",
       "      <td>-91</td>\n",
       "      <td>-87</td>\n",
       "      <td>-85</td>\n",
       "      <td>1</td>\n",
       "    </tr>\n",
       "    <tr>\n",
       "      <th>4</th>\n",
       "      <td>-72</td>\n",
       "      <td>-64</td>\n",
       "      <td>-78</td>\n",
       "      <td>-70</td>\n",
       "      <td>-85</td>\n",
       "      <td>-87</td>\n",
       "      <td>-85</td>\n",
       "      <td>1</td>\n",
       "    </tr>\n",
       "    <tr>\n",
       "      <th>...</th>\n",
       "      <td>...</td>\n",
       "      <td>...</td>\n",
       "      <td>...</td>\n",
       "      <td>...</td>\n",
       "      <td>...</td>\n",
       "      <td>...</td>\n",
       "      <td>...</td>\n",
       "      <td>...</td>\n",
       "    </tr>\n",
       "    <tr>\n",
       "      <th>75</th>\n",
       "      <td>-74</td>\n",
       "      <td>-70</td>\n",
       "      <td>-87</td>\n",
       "      <td>-77</td>\n",
       "      <td>-90</td>\n",
       "      <td>-77</td>\n",
       "      <td>-92</td>\n",
       "      <td>1</td>\n",
       "    </tr>\n",
       "    <tr>\n",
       "      <th>76</th>\n",
       "      <td>-74</td>\n",
       "      <td>-66</td>\n",
       "      <td>-87</td>\n",
       "      <td>-59</td>\n",
       "      <td>-90</td>\n",
       "      <td>-77</td>\n",
       "      <td>-92</td>\n",
       "      <td>1</td>\n",
       "    </tr>\n",
       "    <tr>\n",
       "      <th>77</th>\n",
       "      <td>-77</td>\n",
       "      <td>-66</td>\n",
       "      <td>-87</td>\n",
       "      <td>-73</td>\n",
       "      <td>-85</td>\n",
       "      <td>-77</td>\n",
       "      <td>-92</td>\n",
       "      <td>1</td>\n",
       "    </tr>\n",
       "    <tr>\n",
       "      <th>78</th>\n",
       "      <td>-77</td>\n",
       "      <td>-66</td>\n",
       "      <td>-87</td>\n",
       "      <td>-73</td>\n",
       "      <td>-85</td>\n",
       "      <td>-77</td>\n",
       "      <td>-92</td>\n",
       "      <td>1</td>\n",
       "    </tr>\n",
       "    <tr>\n",
       "      <th>79</th>\n",
       "      <td>-78</td>\n",
       "      <td>-62</td>\n",
       "      <td>-87</td>\n",
       "      <td>-73</td>\n",
       "      <td>-85</td>\n",
       "      <td>-77</td>\n",
       "      <td>-92</td>\n",
       "      <td>1</td>\n",
       "    </tr>\n",
       "  </tbody>\n",
       "</table>\n",
       "<p>80 rows × 8 columns</p>\n",
       "</div>"
      ],
      "text/plain": [
       "    STUDBME2  STUDBME1  Rannnia  Ayazz  CMP_LAB1  CMP_LAB2  CMP_LAB3  loc\n",
       "0        -76       -67      -87    -71       -91       -87       -85    1\n",
       "1        -86       -68      -87    -71       -91       -87       -85    1\n",
       "2        -74       -68      -78    -72       -91       -87       -85    1\n",
       "3        -74       -60      -78    -72       -91       -87       -85    1\n",
       "4        -72       -64      -78    -70       -85       -87       -85    1\n",
       "..       ...       ...      ...    ...       ...       ...       ...  ...\n",
       "75       -74       -70      -87    -77       -90       -77       -92    1\n",
       "76       -74       -66      -87    -59       -90       -77       -92    1\n",
       "77       -77       -66      -87    -73       -85       -77       -92    1\n",
       "78       -77       -66      -87    -73       -85       -77       -92    1\n",
       "79       -78       -62      -87    -73       -85       -77       -92    1\n",
       "\n",
       "[80 rows x 8 columns]"
      ]
     },
     "metadata": {},
     "output_type": "display_data"
    }
   ],
   "source": [
    "display(df_doc)"
   ]
  },
  {
   "cell_type": "code",
   "execution_count": 6,
   "metadata": {},
   "outputs": [
    {
     "data": {
      "text/html": [
       "<div>\n",
       "<style scoped>\n",
       "    .dataframe tbody tr th:only-of-type {\n",
       "        vertical-align: middle;\n",
       "    }\n",
       "\n",
       "    .dataframe tbody tr th {\n",
       "        vertical-align: top;\n",
       "    }\n",
       "\n",
       "    .dataframe thead th {\n",
       "        text-align: right;\n",
       "    }\n",
       "</style>\n",
       "<table border=\"1\" class=\"dataframe\">\n",
       "  <thead>\n",
       "    <tr style=\"text-align: right;\">\n",
       "      <th></th>\n",
       "      <th>STUDBME2</th>\n",
       "      <th>STUDBME1</th>\n",
       "      <th>Ayazz</th>\n",
       "      <th>CMP_LAB1</th>\n",
       "      <th>CMP_LAB2</th>\n",
       "      <th>CMP_LAB3</th>\n",
       "      <th>loc</th>\n",
       "    </tr>\n",
       "  </thead>\n",
       "  <tbody>\n",
       "    <tr>\n",
       "      <th>0</th>\n",
       "      <td>-80</td>\n",
       "      <td>-53</td>\n",
       "      <td>-86</td>\n",
       "      <td>-92</td>\n",
       "      <td>-78</td>\n",
       "      <td>-84</td>\n",
       "      <td>0</td>\n",
       "    </tr>\n",
       "    <tr>\n",
       "      <th>1</th>\n",
       "      <td>-80</td>\n",
       "      <td>-54</td>\n",
       "      <td>-86</td>\n",
       "      <td>-92</td>\n",
       "      <td>-78</td>\n",
       "      <td>-84</td>\n",
       "      <td>0</td>\n",
       "    </tr>\n",
       "    <tr>\n",
       "      <th>2</th>\n",
       "      <td>-85</td>\n",
       "      <td>-54</td>\n",
       "      <td>-86</td>\n",
       "      <td>-92</td>\n",
       "      <td>-78</td>\n",
       "      <td>-84</td>\n",
       "      <td>0</td>\n",
       "    </tr>\n",
       "    <tr>\n",
       "      <th>3</th>\n",
       "      <td>-85</td>\n",
       "      <td>-54</td>\n",
       "      <td>-81</td>\n",
       "      <td>-92</td>\n",
       "      <td>-78</td>\n",
       "      <td>-84</td>\n",
       "      <td>0</td>\n",
       "    </tr>\n",
       "    <tr>\n",
       "      <th>4</th>\n",
       "      <td>-80</td>\n",
       "      <td>-54</td>\n",
       "      <td>-87</td>\n",
       "      <td>-92</td>\n",
       "      <td>-78</td>\n",
       "      <td>-84</td>\n",
       "      <td>0</td>\n",
       "    </tr>\n",
       "    <tr>\n",
       "      <th>...</th>\n",
       "      <td>...</td>\n",
       "      <td>...</td>\n",
       "      <td>...</td>\n",
       "      <td>...</td>\n",
       "      <td>...</td>\n",
       "      <td>...</td>\n",
       "      <td>...</td>\n",
       "    </tr>\n",
       "    <tr>\n",
       "      <th>549</th>\n",
       "      <td>-68</td>\n",
       "      <td>-26</td>\n",
       "      <td>-83</td>\n",
       "      <td>-78</td>\n",
       "      <td>-75</td>\n",
       "      <td>-80</td>\n",
       "      <td>5</td>\n",
       "    </tr>\n",
       "    <tr>\n",
       "      <th>550</th>\n",
       "      <td>-72</td>\n",
       "      <td>-32</td>\n",
       "      <td>-83</td>\n",
       "      <td>-78</td>\n",
       "      <td>-75</td>\n",
       "      <td>-80</td>\n",
       "      <td>5</td>\n",
       "    </tr>\n",
       "    <tr>\n",
       "      <th>551</th>\n",
       "      <td>-69</td>\n",
       "      <td>-32</td>\n",
       "      <td>-83</td>\n",
       "      <td>-78</td>\n",
       "      <td>-75</td>\n",
       "      <td>-80</td>\n",
       "      <td>5</td>\n",
       "    </tr>\n",
       "    <tr>\n",
       "      <th>552</th>\n",
       "      <td>-67</td>\n",
       "      <td>-50</td>\n",
       "      <td>-83</td>\n",
       "      <td>-78</td>\n",
       "      <td>-75</td>\n",
       "      <td>-86</td>\n",
       "      <td>5</td>\n",
       "    </tr>\n",
       "    <tr>\n",
       "      <th>553</th>\n",
       "      <td>-71</td>\n",
       "      <td>-41</td>\n",
       "      <td>-83</td>\n",
       "      <td>-88</td>\n",
       "      <td>-75</td>\n",
       "      <td>-86</td>\n",
       "      <td>5</td>\n",
       "    </tr>\n",
       "  </tbody>\n",
       "</table>\n",
       "<p>554 rows × 7 columns</p>\n",
       "</div>"
      ],
      "text/plain": [
       "     STUDBME2  STUDBME1  Ayazz  CMP_LAB1  CMP_LAB2  CMP_LAB3  loc\n",
       "0         -80       -53    -86       -92       -78       -84    0\n",
       "1         -80       -54    -86       -92       -78       -84    0\n",
       "2         -85       -54    -86       -92       -78       -84    0\n",
       "3         -85       -54    -81       -92       -78       -84    0\n",
       "4         -80       -54    -87       -92       -78       -84    0\n",
       "..        ...       ...    ...       ...       ...       ...  ...\n",
       "549       -68       -26    -83       -78       -75       -80    5\n",
       "550       -72       -32    -83       -78       -75       -80    5\n",
       "551       -69       -32    -83       -78       -75       -80    5\n",
       "552       -67       -50    -83       -78       -75       -86    5\n",
       "553       -71       -41    -83       -88       -75       -86    5\n",
       "\n",
       "[554 rows x 7 columns]"
      ]
     },
     "metadata": {},
     "output_type": "display_data"
    }
   ],
   "source": [
    "dfs = [df_lab, df_doc, df_hallf, df_cl2, df_co1, df_lab2]\n",
    "df = pd.concat(dfs, ignore_index=True)\n",
    "df.drop(\"Rannnia\", axis=1, inplace=True)\n",
    "display(df)"
   ]
  },
  {
   "cell_type": "code",
   "execution_count": 7,
   "metadata": {},
   "outputs": [],
   "source": [
    "df=df.sample(frac=1).reset_index(drop=True)"
   ]
  },
  {
   "cell_type": "code",
   "execution_count": 8,
   "metadata": {},
   "outputs": [],
   "source": [
    "from sklearn.model_selection import train_test_split, GridSearchCV, cross_validate\n",
    "from sklearn.linear_model import LogisticRegression\n",
    "from sklearn.neighbors import KNeighborsClassifier\n",
    "from sklearn.naive_bayes import GaussianNB\n",
    "from sklearn.tree import DecisionTreeClassifier\n",
    "from sklearn.ensemble import RandomForestClassifier\n",
    "from sklearn.ensemble import AdaBoostClassifier\n",
    "from sklearn import datasets\n",
    "from sklearn.preprocessing import StandardScaler\n",
    "from sklearn.svm import SVC\n",
    "from sklearn.metrics import precision_score, recall_score, confusion_matrix, roc_auc_score, classification_report, accuracy_score"
   ]
  },
  {
   "cell_type": "code",
   "execution_count": 9,
   "metadata": {},
   "outputs": [],
   "source": [
    "X = df.iloc[:, :-1].values\n",
    "y = df.iloc[:, -1].values"
   ]
  },
  {
   "cell_type": "code",
   "execution_count": 10,
   "metadata": {},
   "outputs": [],
   "source": [
    "X_train, X_test, y_train, y_test = train_test_split(X, y, test_size = 0.25, random_state = 42)"
   ]
  },
  {
   "cell_type": "code",
   "execution_count": 11,
   "metadata": {},
   "outputs": [
    {
     "data": {
      "text/plain": [
       "2    75\n",
       "5    73\n",
       "3    73\n",
       "4    70\n",
       "0    64\n",
       "1    60\n",
       "dtype: int64"
      ]
     },
     "execution_count": 11,
     "metadata": {},
     "output_type": "execute_result"
    }
   ],
   "source": [
    "pd.Series(y_train).value_counts()"
   ]
  },
  {
   "cell_type": "code",
   "execution_count": 12,
   "metadata": {},
   "outputs": [],
   "source": [
    "#sc = StandardScaler()\n",
    "#X_train = sc.fit_transform(X_train)\n",
    "#X_test = sc.transform(X_test)"
   ]
  },
  {
   "cell_type": "code",
   "execution_count": 13,
   "metadata": {},
   "outputs": [
    {
     "data": {
      "text/plain": [
       "RandomForestClassifier(max_depth=10, n_estimators=20)"
      ]
     },
     "execution_count": 13,
     "metadata": {},
     "output_type": "execute_result"
    }
   ],
   "source": [
    "classifier = RandomForestClassifier(n_estimators = 20, max_depth=10)\n",
    "#classifier = LogisticRegression(multi_class='multinomial',solver ='newton-cg',max_iter=1000)\n",
    "#classifier = SVC(probability=True, gamma=0.001, kernel='poly')\n",
    "#classifier = GaussianNB()\n",
    "classifier.fit(X_train, y_train)"
   ]
  },
  {
   "cell_type": "code",
   "execution_count": 14,
   "metadata": {},
   "outputs": [],
   "source": [
    "res = classifier.predict(X_test)"
   ]
  },
  {
   "cell_type": "code",
   "execution_count": 15,
   "metadata": {},
   "outputs": [
    {
     "name": "stdout",
     "output_type": "stream",
     "text": [
      "[[25  0  0  0  0  0]\n",
      " [ 0 20  0  0  0  0]\n",
      " [ 0  0 18  0  0  0]\n",
      " [ 0  0  0 27  0  0]\n",
      " [ 0  0  1  0 28  0]\n",
      " [ 0  0  0  0  0 20]]\n"
     ]
    },
    {
     "data": {
      "text/plain": [
       "0.9928057553956835"
      ]
     },
     "execution_count": 15,
     "metadata": {},
     "output_type": "execute_result"
    }
   ],
   "source": [
    "cm = confusion_matrix(y_test, res)\n",
    "print(cm)\n",
    "accuracy_score(y_test, res)"
   ]
  },
  {
   "cell_type": "code",
   "execution_count": 16,
   "metadata": {},
   "outputs": [
    {
     "name": "stdout",
     "output_type": "stream",
     "text": [
      "              precision    recall  f1-score   support\n",
      "\n",
      "           0       1.00      1.00      1.00        25\n",
      "           1       1.00      1.00      1.00        20\n",
      "           2       0.95      1.00      0.97        18\n",
      "           3       1.00      1.00      1.00        27\n",
      "           4       1.00      0.97      0.98        29\n",
      "           5       1.00      1.00      1.00        20\n",
      "\n",
      "    accuracy                           0.99       139\n",
      "   macro avg       0.99      0.99      0.99       139\n",
      "weighted avg       0.99      0.99      0.99       139\n",
      "\n"
     ]
    }
   ],
   "source": [
    "print(classification_report(y_test, res))"
   ]
  },
  {
   "cell_type": "code",
   "execution_count": 17,
   "metadata": {},
   "outputs": [
    {
     "data": {
      "text/plain": [
       "['model2.sav']"
      ]
     },
     "execution_count": 17,
     "metadata": {},
     "output_type": "execute_result"
    }
   ],
   "source": [
    "import pickle\n",
    "import joblib\n",
    "\n",
    "#save the model\n",
    "filename = 'model2.sav'\n",
    "joblib.dump(classifier, filename)"
   ]
  },
  {
   "cell_type": "code",
   "execution_count": 18,
   "metadata": {},
   "outputs": [
    {
     "name": "stdout",
     "output_type": "stream",
     "text": [
      "0.9928057553956835\n"
     ]
    }
   ],
   "source": [
    "#load the model\n",
    "loaded_model = joblib.load(filename)\n",
    "result = loaded_model.score(X_test, y_test)\n",
    "print(result)"
   ]
  },
  {
   "cell_type": "code",
   "execution_count": 19,
   "metadata": {},
   "outputs": [
    {
     "ename": "NameError",
     "evalue": "name 'sc' is not defined",
     "output_type": "error",
     "traceback": [
      "\u001b[1;31m---------------------------------------------------------------------------\u001b[0m",
      "\u001b[1;31mNameError\u001b[0m                                 Traceback (most recent call last)",
      "\u001b[1;32m<ipython-input-19-5d7a81b6e6be>\u001b[0m in \u001b[0;36m<module>\u001b[1;34m\u001b[0m\n\u001b[1;32m----> 1\u001b[1;33m \u001b[0mclassifier\u001b[0m\u001b[1;33m.\u001b[0m\u001b[0mpredict\u001b[0m\u001b[1;33m(\u001b[0m\u001b[0msc\u001b[0m\u001b[1;33m.\u001b[0m\u001b[0mtransform\u001b[0m\u001b[1;33m(\u001b[0m\u001b[1;33m[\u001b[0m\u001b[1;33m[\u001b[0m\u001b[1;33m-\u001b[0m\u001b[1;36m51\u001b[0m\u001b[1;33m,\u001b[0m\u001b[1;33m-\u001b[0m\u001b[1;36m73\u001b[0m\u001b[1;33m,\u001b[0m\u001b[1;33m-\u001b[0m\u001b[1;36m86\u001b[0m\u001b[1;33m,\u001b[0m\u001b[1;33m-\u001b[0m\u001b[1;36m73\u001b[0m\u001b[1;33m,\u001b[0m\u001b[1;33m-\u001b[0m\u001b[1;36m71\u001b[0m\u001b[1;33m,\u001b[0m\u001b[1;33m-\u001b[0m\u001b[1;36m71\u001b[0m\u001b[1;33m]\u001b[0m\u001b[1;33m]\u001b[0m\u001b[1;33m)\u001b[0m\u001b[1;33m)\u001b[0m\u001b[1;33m\u001b[0m\u001b[1;33m\u001b[0m\u001b[0m\n\u001b[0m",
      "\u001b[1;31mNameError\u001b[0m: name 'sc' is not defined"
     ]
    }
   ],
   "source": [
    "classifier.predict(sc.transform([[-51,-73,-86,-73,-71,-71]]))"
   ]
  },
  {
   "cell_type": "code",
   "execution_count": null,
   "metadata": {},
   "outputs": [],
   "source": []
  },
  {
   "cell_type": "code",
   "execution_count": null,
   "metadata": {},
   "outputs": [],
   "source": []
  }
 ],
 "metadata": {
  "kernelspec": {
   "display_name": "Python 3",
   "language": "python",
   "name": "python3"
  },
  "language_info": {
   "codemirror_mode": {
    "name": "ipython",
    "version": 3
   },
   "file_extension": ".py",
   "mimetype": "text/x-python",
   "name": "python",
   "nbconvert_exporter": "python",
   "pygments_lexer": "ipython3",
   "version": "3.8.3"
  }
 },
 "nbformat": 4,
 "nbformat_minor": 4
}
